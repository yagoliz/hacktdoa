{
 "cells": [
  {
   "cell_type": "code",
   "execution_count": null,
   "metadata": {},
   "outputs": [],
   "source": [
    "import matplotlib.pyplot as plt\n",
    "import numpy as np\n",
    "import scipy.fft as fft\n",
    "import scipy.signal as signal\n",
    "from scipy.io import wavfile"
   ]
  },
  {
   "cell_type": "code",
   "execution_count": null,
   "metadata": {},
   "outputs": [],
   "source": [
    "(rate, data) = wavfile.read(\"../data/recordings/baseband_868100000Hz_12-20-20_04-10-2022.wav\")\n",
    "data = data.astype('float64')\n",
    "data_complex = data[:,0] + 1j * data[:,1]"
   ]
  },
  {
   "cell_type": "code",
   "execution_count": null,
   "metadata": {},
   "outputs": [],
   "source": [
    "data_mag = np.sqrt(np.square(data[:,0]) + np.square(data[:,1]))\n",
    "data_mag = 2*(data_mag - np.min(data_mag))/(np.max(data_mag) - np.min(data_mag)) - 1"
   ]
  },
  {
   "cell_type": "code",
   "execution_count": null,
   "metadata": {},
   "outputs": [],
   "source": [
    "import plotly.express as px\n",
    "import plotly.graph_objects as go"
   ]
  },
  {
   "cell_type": "code",
   "execution_count": null,
   "metadata": {},
   "outputs": [],
   "source": [
    "px.line(data_mag)"
   ]
  },
  {
   "cell_type": "code",
   "execution_count": null,
   "metadata": {},
   "outputs": [],
   "source": [
    "START = 1350000\n",
    "END = 1600000\n",
    "f, t, Zxx = signal.stft(data_complex[START:END], rate, nperseg=250, return_onesided=False)\n",
    "Zxx.shape"
   ]
  },
  {
   "cell_type": "code",
   "execution_count": null,
   "metadata": {},
   "outputs": [],
   "source": [
    "fig = go.Figure(data=go.Heatmap(\n",
    "        z=fft.fftshift(np.abs(Zxx), axes=0),\n",
    "        colorscale='Viridis'))\n",
    "\n",
    "fig.show()"
   ]
  }
 ],
 "metadata": {
  "kernelspec": {
   "display_name": "Python 3.10.7 ('hacktdoa')",
   "language": "python",
   "name": "python3"
  },
  "language_info": {
   "codemirror_mode": {
    "name": "ipython",
    "version": 3
   },
   "file_extension": ".py",
   "mimetype": "text/x-python",
   "name": "python",
   "nbconvert_exporter": "python",
   "pygments_lexer": "ipython3",
   "version": "3.10.7"
  },
  "orig_nbformat": 4,
  "vscode": {
   "interpreter": {
    "hash": "9f3d3a7dc257d3606aacb576584d6f288cbb76a346a8fdae608beb59d0cdf71b"
   }
  }
 },
 "nbformat": 4,
 "nbformat_minor": 2
}
