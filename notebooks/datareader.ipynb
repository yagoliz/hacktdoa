{
 "cells": [
  {
   "cell_type": "code",
   "execution_count": 1,
   "metadata": {},
   "outputs": [
    {
     "name": "stdout",
     "output_type": "stream",
     "text": [
      "Requirement already satisfied: msgpack in /home/ygglc/.virtualenvs/hacktdoa/lib/python3.10/site-packages (1.0.4)\n",
      "Requirement already satisfied: msgpack-numpy in /home/ygglc/.virtualenvs/hacktdoa/lib/python3.10/site-packages (0.4.8)\n",
      "Requirement already satisfied: numpy>=1.9.0 in /home/ygglc/.virtualenvs/hacktdoa/lib/python3.10/site-packages (from msgpack-numpy) (1.23.3)\n",
      "Requirement already satisfied: msgpack>=0.5.2 in /home/ygglc/.virtualenvs/hacktdoa/lib/python3.10/site-packages (from msgpack-numpy) (1.0.4)\n"
     ]
    }
   ],
   "source": [
    "!pip install msgpack\n",
    "!pip install msgpack-numpy"
   ]
  },
  {
   "cell_type": "code",
   "execution_count": 5,
   "metadata": {},
   "outputs": [],
   "source": [
    "import msgpack\n",
    "import msgpack_numpy as m\n",
    "\n",
    "import numpy as np\n",
    "import scipy.io"
   ]
  },
  {
   "cell_type": "code",
   "execution_count": 13,
   "metadata": {},
   "outputs": [],
   "source": [
    "# Read file and get the data\n",
    "filename = '../data/receivers/s1_1_sf12.msgpack'\n",
    "with open(filename, 'rb') as file:\n",
    "    byte_data = file.read()\n",
    "\n",
    "data = msgpack.unpackb(byte_data, object_hook=m.decode)"
   ]
  },
  {
   "cell_type": "code",
   "execution_count": 14,
   "metadata": {},
   "outputs": [
    {
     "data": {
      "text/plain": [
       "dict_keys(['bandwidth', 'center_freq', 'data', 'gain', 'start_time'])"
      ]
     },
     "execution_count": 14,
     "metadata": {},
     "output_type": "execute_result"
    }
   ],
   "source": [
    "data.keys()"
   ]
  },
  {
   "cell_type": "code",
   "execution_count": 6,
   "metadata": {},
   "outputs": [],
   "source": [
    "bw = data['bandwidth']\n",
    "fc = data['center_freq']\n",
    "gain = data['gain']\n",
    "start_time = data['start_time']"
   ]
  },
  {
   "cell_type": "code",
   "execution_count": 7,
   "metadata": {},
   "outputs": [],
   "source": [
    "chunk_number = len(data['data'])\n",
    "chunk_length = data['data'][0]['size']"
   ]
  },
  {
   "cell_type": "code",
   "execution_count": 8,
   "metadata": {},
   "outputs": [],
   "source": [
    "# Reserve arrays\n",
    "seconds = np.empty(chunk_number, dtype=int)\n",
    "nanoseconds = np.empty(chunk_number, dtype=np.float64)\n",
    "samples = np.empty((chunk_number*chunk_length,2), dtype=np.float64)"
   ]
  },
  {
   "cell_type": "code",
   "execution_count": 10,
   "metadata": {},
   "outputs": [],
   "source": [
    "for i in range(chunk_number):\n",
    "    seconds[i] = data['data'][i]['seconds']\n",
    "    nanoseconds[i] = data['data'][i]['nanoseconds']\n",
    "    samples[i*2000:(i+1)*2000,:] = np.array(data['data'][i]['samples'])\n",
    "    "
   ]
  },
  {
   "cell_type": "code",
   "execution_count": 11,
   "metadata": {},
   "outputs": [],
   "source": [
    "scipy.io.savemat('test.mat', {'bw': bw, 'fc': fc, 'gain': gain, 'start_time': start_time, 'chunk_length': chunk_length, 'seconds': seconds, 'nanoseconds': nanoseconds, 'samples': samples})"
   ]
  },
  {
   "cell_type": "code",
   "execution_count": 1,
   "metadata": {},
   "outputs": [],
   "source": [
    "import os"
   ]
  },
  {
   "cell_type": "code",
   "execution_count": 8,
   "metadata": {},
   "outputs": [
    {
     "name": "stdout",
     "output_type": "stream",
     "text": [
      "Saved file: ../data/matfiles/s1_1_sf8.mat\n",
      "Saved file: ../data/matfiles/s1_1_sf9.mat\n",
      "Saved file: ../data/matfiles/s1_1_sf12.mat\n",
      "Saved file: ../data/matfiles/s1_5_sf12.mat\n",
      "Saved file: ../data/matfiles/s1_2_sf12.mat\n",
      "Saved file: ../data/matfiles/s2_3_sf9.mat\n",
      "Saved file: ../data/matfiles/s2_2_sf9.mat\n",
      "Saved file: ../data/matfiles/s2_1_sf8.mat\n",
      "Saved file: ../data/matfiles/s1_4_sf8.mat\n",
      "Saved file: ../data/matfiles/s1_4_sf12.mat\n",
      "Saved file: ../data/matfiles/s2_2_sf7.mat\n",
      "Saved file: ../data/matfiles/s1_5_sf7.mat\n",
      "Saved file: ../data/matfiles/s2_5_sf10.mat\n",
      "Saved file: ../data/matfiles/s2_5_sf12.mat\n",
      "Saved file: ../data/matfiles/s2_5_sf9.mat\n",
      "Saved file: ../data/matfiles/s2_4_sf8.mat\n",
      "Saved file: ../data/matfiles/s2_5_sf7.mat\n",
      "Saved file: ../data/matfiles/s1_4_sf9.mat\n",
      "Saved file: ../data/matfiles/s2_1_sf7.mat\n",
      "Saved file: ../data/matfiles/s2_1_sf9.mat\n",
      "Saved file: ../data/matfiles/s2_4_sf7.mat\n",
      "Saved file: ../data/matfiles/s1_5_sf8.mat\n",
      "Saved file: ../data/matfiles/s2_3_sf11.mat\n",
      "Saved file: ../data/matfiles/s1_5_sf9.mat\n",
      "Saved file: ../data/matfiles/s1_2_sf9.mat\n",
      "Saved file: ../data/matfiles/s1_4_sf11.mat\n",
      "Saved file: ../data/matfiles/s1_1_sf7.mat\n",
      "Saved file: ../data/matfiles/s1_2_sf11.mat\n",
      "Saved file: ../data/matfiles/s1_3_sf8.mat\n",
      "Saved file: ../data/matfiles/s2_4_sf10.mat\n",
      "Saved file: ../data/matfiles/s2_4_sf9.mat\n",
      "Saved file: ../data/matfiles/s2_4_sf11.mat\n",
      "Saved file: ../data/matfiles/s1_2_sf8.mat\n",
      "Saved file: ../data/matfiles/s1_4_sf10.mat\n",
      "Saved file: ../data/matfiles/s2_1_sf12.mat\n",
      "Saved file: ../data/matfiles/s1_3_sf10.mat\n",
      "Saved file: ../data/matfiles/s2_2_sf12.mat\n",
      "Saved file: ../data/matfiles/s2_2_sf10.mat\n",
      "Saved file: ../data/matfiles/s1_3_sf7.mat\n",
      "Saved file: ../data/matfiles/s1_5_sf11.mat\n",
      "Saved file: ../data/matfiles/s1_1_sf10.mat\n",
      "Saved file: ../data/matfiles/s1_3_sf12.mat\n",
      "Saved file: ../data/matfiles/s2_5_sf8.mat\n",
      "Saved file: ../data/matfiles/s2_1_sf10.mat\n",
      "Saved file: ../data/matfiles/s2_2_sf8.mat\n",
      "Saved file: ../data/matfiles/s2_1_sf11.mat\n",
      "Saved file: ../data/matfiles/s1_3_sf11.mat\n",
      "Saved file: ../data/matfiles/s2_3_sf10.mat\n",
      "Saved file: ../data/matfiles/s2_3_sf12.mat\n",
      "Saved file: ../data/matfiles/s1_4_sf7.mat\n",
      "Saved file: ../data/matfiles/s1_1_sf11.mat\n",
      "Saved file: ../data/matfiles/s1_5_sf10.mat\n",
      "Saved file: ../data/matfiles/s2_2_sf11.mat\n",
      "Saved file: ../data/matfiles/s2_5_sf11.mat\n",
      "Saved file: ../data/matfiles/s1_3_sf9.mat\n",
      "Saved file: ../data/matfiles/s2_4_sf12.mat\n",
      "Saved file: ../data/matfiles/s2_3_sf8.mat\n",
      "Saved file: ../data/matfiles/s2_3_sf7.mat\n",
      "Saved file: ../data/matfiles/s1_2_sf10.mat\n",
      "Saved file: ../data/matfiles/s1_2_sf7.mat\n"
     ]
    }
   ],
   "source": [
    "for file in os.scandir('../data/receivers/'):\n",
    "    file_name = file.name.split('.')[0]\n",
    "\n",
    "    with open(f'../data/receivers/{file.name}', 'rb') as file:\n",
    "        byte_data = file.read()\n",
    "\n",
    "    data = msgpack.unpackb(byte_data, object_hook=m.decode)\n",
    "\n",
    "    bw = data['bandwidth']\n",
    "    fc = data['center_freq']\n",
    "    gain = data['gain']\n",
    "    start_time = data['start_time']\n",
    "\n",
    "    chunk_number = len(data['data'])\n",
    "    chunk_length = data['data'][0]['size']\n",
    "\n",
    "    # Reserve arrays\n",
    "    seconds = np.empty(chunk_number, dtype=int)\n",
    "    nanoseconds = np.empty(chunk_number, dtype=np.float64)\n",
    "    samples = np.empty((chunk_number*chunk_length,2), dtype=np.float64)\n",
    "\n",
    "    for i in range(chunk_number):\n",
    "        seconds[i] = data['data'][i]['seconds']\n",
    "        nanoseconds[i] = data['data'][i]['nanoseconds']\n",
    "        samples[i*2000:(i+1)*2000,:] = np.array(data['data'][i]['samples'])\n",
    "    \n",
    "\n",
    "    scipy.io.savemat(f'../data/matfiles/{file_name}.mat', {'bw': bw, 'fc': fc, 'gain': gain, 'start_time': start_time, 'chunk_length': chunk_length, 'seconds': seconds, 'nanoseconds': nanoseconds, 'samples': samples})\n",
    "    print(f'Saved file: ../data/matfiles/{file_name}.mat')"
   ]
  }
 ],
 "metadata": {
  "kernelspec": {
   "display_name": "Python 3.10.7 ('hacktdoa')",
   "language": "python",
   "name": "python3"
  },
  "language_info": {
   "codemirror_mode": {
    "name": "ipython",
    "version": 3
   },
   "file_extension": ".py",
   "mimetype": "text/x-python",
   "name": "python",
   "nbconvert_exporter": "python",
   "pygments_lexer": "ipython3",
   "version": "3.10.7"
  },
  "orig_nbformat": 4,
  "vscode": {
   "interpreter": {
    "hash": "9f3d3a7dc257d3606aacb576584d6f288cbb76a346a8fdae608beb59d0cdf71b"
   }
  }
 },
 "nbformat": 4,
 "nbformat_minor": 2
}
