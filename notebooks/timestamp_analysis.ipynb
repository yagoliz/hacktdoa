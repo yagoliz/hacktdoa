{
 "cells": [
  {
   "cell_type": "code",
   "execution_count": 28,
   "metadata": {},
   "outputs": [
    {
     "name": "stdout",
     "output_type": "stream",
     "text": [
      "The autoreload extension is already loaded. To reload it, use:\n",
      "  %reload_ext autoreload\n"
     ]
    }
   ],
   "source": [
    "%load_ext autoreload\n",
    "%autoreload 2"
   ]
  },
  {
   "cell_type": "code",
   "execution_count": 29,
   "metadata": {},
   "outputs": [],
   "source": [
    "# We need to join the upper directory in order to access the local modules\n",
    "import os\n",
    "import sys\n",
    "module_path = os.path.abspath(os.path.join('..'))\n",
    "if module_path not in sys.path:\n",
    "    sys.path.append(module_path)"
   ]
  },
  {
   "cell_type": "code",
   "execution_count": 30,
   "metadata": {},
   "outputs": [],
   "source": [
    "import itertools\n",
    "import json"
   ]
  },
  {
   "cell_type": "code",
   "execution_count": 31,
   "metadata": {},
   "outputs": [],
   "source": [
    "import numpy as np\n",
    "import pandas as pd\n",
    "import scipy\n",
    "from scipy import optimize"
   ]
  },
  {
   "cell_type": "code",
   "execution_count": 32,
   "metadata": {},
   "outputs": [],
   "source": [
    "# Our precious pytdoa functions\n",
    "import hacktdoa.geodesy.geodesy as geodesy\n",
    "from hacktdoa.optim import nlls, exact, lls\n",
    "\n",
    "from hacktdoa.util.util import generate_heatmap, generate_hyperbola"
   ]
  },
  {
   "cell_type": "code",
   "execution_count": 6,
   "metadata": {},
   "outputs": [],
   "source": [
    "# Sensor and transmitter positions\n",
    "receivers = pd.read_pickle('../data/positions/receivers.pkl')\n",
    "transmitters = pd.read_pickle('../data/positions/transmitters.pkl')"
   ]
  },
  {
   "cell_type": "code",
   "execution_count": 33,
   "metadata": {},
   "outputs": [],
   "source": [
    "receivers_enu = np.empty((0,3))\n",
    "\n",
    "for enu_tuple in receivers.enu:\n",
    "    receivers_enu = np.vstack((receivers_enu,np.asarray(enu_tuple)))"
   ]
  },
  {
   "cell_type": "code",
   "execution_count": 34,
   "metadata": {},
   "outputs": [],
   "source": [
    "transmitters_enu = np.empty((0,3))\n",
    "\n",
    "for enu_tuple in transmitters.enu:\n",
    "    transmitters_enu = np.vstack((transmitters_enu,np.asarray(enu_tuple)))"
   ]
  },
  {
   "cell_type": "code",
   "execution_count": 35,
   "metadata": {},
   "outputs": [],
   "source": [
    "# Get the data\n",
    "data = pd.read_pickle('../data/sims/sim_pairs_250ns.pkl')"
   ]
  },
  {
   "cell_type": "markdown",
   "metadata": {},
   "source": [
    "### Single Analysis"
   ]
  },
  {
   "cell_type": "code",
   "execution_count": 10,
   "metadata": {},
   "outputs": [],
   "source": [
    "transmitter = 0 # 0, 1 & 2\n",
    "tx_position = transmitters_enu[transmitter]\n",
    "tx_data = data.loc[transmitter]"
   ]
  },
  {
   "cell_type": "code",
   "execution_count": 11,
   "metadata": {},
   "outputs": [],
   "source": [
    "combinations = np.empty((0,2), dtype='int')\n",
    "for tup in tx_data.columns:\n",
    "    combinations = np.vstack((combinations,np.asarray(tup)))"
   ]
  },
  {
   "cell_type": "code",
   "execution_count": 12,
   "metadata": {},
   "outputs": [
    {
     "data": {
      "text/plain": [
       "array([[-3.88190824e+02, -1.26919332e+01, -1.18048203e-02],\n",
       "       [-5.16508660e+02, -4.41699504e+02, -3.61919706e-02],\n",
       "       [ 1.55866745e+02, -5.41817320e+02, -2.49463465e-02],\n",
       "       [ 6.12819967e+02,  3.59067674e+02, -3.95090348e-02],\n",
       "       [ 1.35937006e+02,  6.37211434e+02, -3.33204327e-02]])"
      ]
     },
     "execution_count": 12,
     "metadata": {},
     "output_type": "execute_result"
    }
   ],
   "source": [
    "receivers_enu"
   ]
  },
  {
   "cell_type": "code",
   "execution_count": 16,
   "metadata": {},
   "outputs": [],
   "source": [
    "tdoas = tx_data.iloc[6].to_numpy()"
   ]
  },
  {
   "cell_type": "code",
   "execution_count": 13,
   "metadata": {},
   "outputs": [],
   "source": [
    "dimensions = 2\n",
    "\n",
    "sensors_mean = np.mean(receivers_enu, axis=0)[0:dimensions]\n",
    "\n",
    "sensors = (receivers_enu[:,0:dimensions] - sensors_mean)\n",
    "optimfun = lambda X: nlls.nlls_enu(X, sensors, -tdoas, combinations)"
   ]
  },
  {
   "cell_type": "code",
   "execution_count": 14,
   "metadata": {},
   "outputs": [],
   "source": [
    "distances = np.sqrt(np.sum(np.square(sensors - tx_position[0:dimensions]), axis=1))\n",
    "\n",
    "theoretical_tdoa = np.empty((0,))\n",
    "for combo in combinations:\n",
    "    theoretical_tdoa = np.append(theoretical_tdoa, distances[combo[0]]-distances[combo[1]])"
   ]
  },
  {
   "cell_type": "code",
   "execution_count": 17,
   "metadata": {},
   "outputs": [
    {
     "name": "stdout",
     "output_type": "stream",
     "text": [
      "[-6.24510413e+00  6.33695006e+02  4.87124656e+00 -2.66372193e+02\n",
      "  7.79633832e+02 -2.03342205e-02 -2.77632147e+02 -5.78316704e+02\n",
      " -8.69310770e+02 -2.48501074e+02]\n",
      "[ -25.53036486  611.54116988   27.82830276 -231.0560987   637.07153473\n",
      "   53.35866761 -205.52573384 -583.71286712 -842.59726858 -258.88440146]\n"
     ]
    }
   ],
   "source": [
    "print(-tdoas)\n",
    "print(theoretical_tdoa)"
   ]
  },
  {
   "cell_type": "code",
   "execution_count": 18,
   "metadata": {},
   "outputs": [],
   "source": [
    "# Minimization routine\n",
    "# If no initial point is given we start at the center\n",
    "X0 = np.zeros(shape=(dimensions,))\n",
    "\n",
    "summary = optimize.minimize(optimfun, X0, method=\"Nelder-Mead\", options={\"maxiter\": 300})\n",
    "\n",
    "if dimensions == 2 or dimensions == 3:\n",
    "    res = np.array(summary.x, copy=False).reshape(-1, dimensions)\n",
    "else:\n",
    "    raise RuntimeError(\"[ERROR]: Only valid dimensions are 2 or 3.\")\n",
    "\n",
    "res = (res + sensors_mean).squeeze()"
   ]
  },
  {
   "cell_type": "code",
   "execution_count": 19,
   "metadata": {},
   "outputs": [
    {
     "name": "stdout",
     "output_type": "stream",
     "text": [
      "[ 361.31309071 -457.57537793]\n",
      "Optimization terminated successfully.\n"
     ]
    }
   ],
   "source": [
    "print(res)\n",
    "print(summary.message)"
   ]
  },
  {
   "cell_type": "code",
   "execution_count": 20,
   "metadata": {},
   "outputs": [
    {
     "name": "stdout",
     "output_type": "stream",
     "text": [
      "[ 345.5793169  -461.27343512]\n"
     ]
    }
   ],
   "source": [
    "# Linear solutions\n",
    "numc = 4\n",
    "combs = combinations[:,0:numc]\n",
    "if combs.shape[0] == 2:\n",
    "    res = exact.fang(sensors[:,0:numc+1], -tdoas[0:numc])\n",
    "else:\n",
    "    res = lls.lls(sensors[:,0:numc+1], -tdoas[0:numc])\n",
    "\n",
    "print(res)"
   ]
  },
  {
   "cell_type": "code",
   "execution_count": 21,
   "metadata": {},
   "outputs": [
    {
     "data": {
      "text/plain": [
       "array([ 354.84230259, -417.52578   ])"
      ]
     },
     "execution_count": 21,
     "metadata": {},
     "output_type": "execute_result"
    }
   ],
   "source": [
    "tx_position[0:dimensions]"
   ]
  },
  {
   "cell_type": "code",
   "execution_count": 23,
   "metadata": {},
   "outputs": [
    {
     "data": {
      "text/plain": [
       "8581849.469007539"
      ]
     },
     "execution_count": 23,
     "metadata": {},
     "output_type": "execute_result"
    }
   ],
   "source": [
    "nlls.nlls_enu(tx_position[0:2], sensors, tdoas, combinations)"
   ]
  },
  {
   "cell_type": "markdown",
   "metadata": {},
   "source": [
    "### Batch Processing"
   ]
  },
  {
   "cell_type": "code",
   "execution_count": 36,
   "metadata": {},
   "outputs": [
    {
     "ename": "KeyboardInterrupt",
     "evalue": "",
     "output_type": "error",
     "traceback": [
      "\u001b[0;31m---------------------------------------------------------------------------\u001b[0m",
      "\u001b[0;31mKeyboardInterrupt\u001b[0m                         Traceback (most recent call last)",
      "Cell \u001b[0;32mIn [36], line 42\u001b[0m\n\u001b[1;32m     39\u001b[0m     constraints\u001b[38;5;241m.\u001b[39mappend(optimize\u001b[38;5;241m.\u001b[39mLinearConstraint(A[\u001b[38;5;241m2\u001b[39m], lb\u001b[38;5;241m=\u001b[39mlb[\u001b[38;5;241m2\u001b[39m], ub\u001b[38;5;241m=\u001b[39mub[\u001b[38;5;241m2\u001b[39m]))\n\u001b[1;32m     41\u001b[0m \u001b[38;5;28;01mif\u001b[39;00m dimensions \u001b[38;5;241m==\u001b[39m \u001b[38;5;241m2\u001b[39m:\n\u001b[0;32m---> 42\u001b[0m     summary \u001b[38;5;241m=\u001b[39m optimize\u001b[38;5;241m.\u001b[39mminimize(optimfun, X0, method\u001b[38;5;241m=\u001b[39m\u001b[38;5;124m\"\u001b[39m\u001b[38;5;124mNelder-Mead\u001b[39m\u001b[38;5;124m\"\u001b[39m, constraints\u001b[38;5;241m=\u001b[39mconstraints)\n\u001b[1;32m     43\u001b[0m \u001b[38;5;28;01melif\u001b[39;00m dimensions \u001b[38;5;241m==\u001b[39m \u001b[38;5;241m3\u001b[39m:\n\u001b[1;32m     44\u001b[0m     summary \u001b[38;5;241m=\u001b[39m optimize\u001b[38;5;241m.\u001b[39mminimize(optimfun, X0, method\u001b[38;5;241m=\u001b[39m\u001b[38;5;124m\"\u001b[39m\u001b[38;5;124mSLSQP\u001b[39m\u001b[38;5;124m\"\u001b[39m, constraints\u001b[38;5;241m=\u001b[39mconstraints)\n",
      "File \u001b[0;32m~/.virtualenvs/hacktdoa/lib/python3.10/site-packages/scipy/optimize/_minimize.py:687\u001b[0m, in \u001b[0;36mminimize\u001b[0;34m(fun, x0, args, method, jac, hess, hessp, bounds, constraints, tol, callback, options)\u001b[0m\n\u001b[1;32m    684\u001b[0m     bounds \u001b[39m=\u001b[39m standardize_bounds(bounds, x0, meth)\n\u001b[1;32m    686\u001b[0m \u001b[39mif\u001b[39;00m meth \u001b[39m==\u001b[39m \u001b[39m'\u001b[39m\u001b[39mnelder-mead\u001b[39m\u001b[39m'\u001b[39m:\n\u001b[0;32m--> 687\u001b[0m     res \u001b[39m=\u001b[39m _minimize_neldermead(fun, x0, args, callback, bounds\u001b[39m=\u001b[39;49mbounds,\n\u001b[1;32m    688\u001b[0m                                \u001b[39m*\u001b[39;49m\u001b[39m*\u001b[39;49moptions)\n\u001b[1;32m    689\u001b[0m \u001b[39melif\u001b[39;00m meth \u001b[39m==\u001b[39m \u001b[39m'\u001b[39m\u001b[39mpowell\u001b[39m\u001b[39m'\u001b[39m:\n\u001b[1;32m    690\u001b[0m     res \u001b[39m=\u001b[39m _minimize_powell(fun, x0, args, callback, bounds, \u001b[39m*\u001b[39m\u001b[39m*\u001b[39moptions)\n",
      "File \u001b[0;32m~/.virtualenvs/hacktdoa/lib/python3.10/site-packages/scipy/optimize/_optimize.py:795\u001b[0m, in \u001b[0;36m_minimize_neldermead\u001b[0;34m(func, x0, args, callback, maxiter, maxfev, disp, return_all, initial_simplex, xatol, fatol, adaptive, bounds, **unknown_options)\u001b[0m\n\u001b[1;32m    793\u001b[0m xbar \u001b[39m=\u001b[39m np\u001b[39m.\u001b[39madd\u001b[39m.\u001b[39mreduce(sim[:\u001b[39m-\u001b[39m\u001b[39m1\u001b[39m], \u001b[39m0\u001b[39m) \u001b[39m/\u001b[39m N\n\u001b[1;32m    794\u001b[0m xr \u001b[39m=\u001b[39m (\u001b[39m1\u001b[39m \u001b[39m+\u001b[39m rho) \u001b[39m*\u001b[39m xbar \u001b[39m-\u001b[39m rho \u001b[39m*\u001b[39m sim[\u001b[39m-\u001b[39m\u001b[39m1\u001b[39m]\n\u001b[0;32m--> 795\u001b[0m \u001b[39mif\u001b[39;00m bounds \u001b[39mis\u001b[39;00m \u001b[39mnot\u001b[39;00m \u001b[39mNone\u001b[39;00m:\n\u001b[1;32m    796\u001b[0m     xr \u001b[39m=\u001b[39m np\u001b[39m.\u001b[39mclip(xr, lower_bound, upper_bound)\n\u001b[1;32m    797\u001b[0m fxr \u001b[39m=\u001b[39m func(xr)\n",
      "\u001b[0;31mKeyboardInterrupt\u001b[0m: "
     ]
    }
   ],
   "source": [
    "dimensions = 2\n",
    "method = 'nonlinear'\n",
    "results = np.empty((0,4 + dimensions))\n",
    "X0 = np.zeros(shape=(dimensions,))\n",
    "\n",
    "error_dist = [10, 100, 250, 1000]\n",
    "for error_ns in error_dist:\n",
    "    data = pd.read_pickle(f'../data/sims/sim_{error_ns}ns.pkl')\n",
    "\n",
    "    # Get the combinations from the columns\n",
    "    combinations = np.empty((0,2), dtype='int')\n",
    "    for tup in data.loc[0]:\n",
    "        combinations = np.vstack((combinations,np.asarray(tup)))\n",
    "\n",
    "    sensors_mean = np.mean(receivers_enu, axis=0)[0:dimensions]\n",
    "\n",
    "    sensors = (receivers_enu[:,0:dimensions] - sensors_mean)\n",
    "\n",
    "    # We start the interesting stuff\n",
    "    for transmitter in range(3):\n",
    "        tx_position = transmitters_enu[transmitter][0:dimensions]\n",
    "        tx_data = data.loc[transmitter]\n",
    "\n",
    "        for row, tdoa_series in tx_data.iterrows():\n",
    "            tdoas = -tdoa_series.to_numpy()\n",
    "\n",
    "            if method == \"nonlinear\": \n",
    "                optimfun = lambda X: nlls.nlls_enu(X, sensors, tdoas, combinations)\n",
    "\n",
    "                # For dimension 3, need to constrain up direction\n",
    "                constraints = []\n",
    "                if dimensions == 3:\n",
    "                    A = np.eye(3)\n",
    "                    lb = np.array([-100000, -100000, 0.0])\n",
    "                    ub = np.array([100000, 100000, np.inf])\n",
    "                    \n",
    "                    constraints.append(optimize.LinearConstraint(A[0], lb=lb[0], ub=ub[0]))     \n",
    "                    constraints.append(optimize.LinearConstraint(A[1], lb=lb[1], ub=ub[1]))\n",
    "                    constraints.append(optimize.LinearConstraint(A[2], lb=lb[2], ub=ub[2]))\n",
    "\n",
    "                if dimensions == 2:\n",
    "                    summary = optimize.minimize(optimfun, X0, method=\"Nelder-Mead\", constraints=constraints)\n",
    "                elif dimensions == 3:\n",
    "                    summary = optimize.minimize(optimfun, X0, method=\"SLSQP\", constraints=constraints)\n",
    "                res = np.array(summary.x, copy=False).reshape(-1, dimensions)\n",
    "                success = summary.success\n",
    "\n",
    "            elif method == \"linear\":\n",
    "                if combinations.shape[0] == 2:\n",
    "                    res = exact.fang(sensors, tdoas)\n",
    "                else:\n",
    "                    res = lls.lls(sensors, tdoas)\n",
    "                \n",
    "                if res is None:\n",
    "                    success = False\n",
    "                else:\n",
    "                    success = True\n",
    "            else:\n",
    "                raise RuntimeError(f\"Supported methods are linear|nonlinear. You selected {method}\")\n",
    "\n",
    "            res = (res + sensors_mean).squeeze()\n",
    "            err = np.sqrt(np.sum(np.square(res - tx_position)))\n",
    "\n",
    "            if dimensions == 2:\n",
    "                results = np.vstack((results,np.array([error_ns, transmitter, res[0], res[1], err, success])))\n",
    "            elif dimensions == 3:\n",
    "                results = np.vstack((results,np.array([error_ns, transmitter, res[0], res[1], res[2], err, success])))\n",
    "\n",
    "if dimensions == 2:\n",
    "    results_pd = pd.DataFrame(results, columns=['ns_err', 'tx', 'east', 'north', 'mse', 'success'])\n",
    "elif dimensions == 3:   \n",
    "    results_pd = pd.DataFrame(results, columns=['ns_err', 'tx', 'east', 'north', 'up', 'mse', 'success'])"
   ]
  },
  {
   "cell_type": "code",
   "execution_count": 56,
   "metadata": {},
   "outputs": [
    {
     "data": {
      "text/html": [
       "<div>\n",
       "<style scoped>\n",
       "    .dataframe tbody tr th:only-of-type {\n",
       "        vertical-align: middle;\n",
       "    }\n",
       "\n",
       "    .dataframe tbody tr th {\n",
       "        vertical-align: top;\n",
       "    }\n",
       "\n",
       "    .dataframe thead th {\n",
       "        text-align: right;\n",
       "    }\n",
       "</style>\n",
       "<table border=\"1\" class=\"dataframe\">\n",
       "  <thead>\n",
       "    <tr style=\"text-align: right;\">\n",
       "      <th></th>\n",
       "      <th>ns_err</th>\n",
       "      <th>tx</th>\n",
       "      <th>east</th>\n",
       "      <th>north</th>\n",
       "      <th>mse</th>\n",
       "      <th>success</th>\n",
       "    </tr>\n",
       "  </thead>\n",
       "  <tbody>\n",
       "    <tr>\n",
       "      <th>0</th>\n",
       "      <td>10</td>\n",
       "      <td>0</td>\n",
       "      <td>356.567111</td>\n",
       "      <td>-420.438888</td>\n",
       "      <td>3.385434</td>\n",
       "      <td>1.0</td>\n",
       "    </tr>\n",
       "    <tr>\n",
       "      <th>1</th>\n",
       "      <td>10</td>\n",
       "      <td>0</td>\n",
       "      <td>336.792758</td>\n",
       "      <td>-391.882574</td>\n",
       "      <td>31.358573</td>\n",
       "      <td>1.0</td>\n",
       "    </tr>\n",
       "    <tr>\n",
       "      <th>2</th>\n",
       "      <td>10</td>\n",
       "      <td>0</td>\n",
       "      <td>353.693886</td>\n",
       "      <td>-420.496342</td>\n",
       "      <td>3.184823</td>\n",
       "      <td>1.0</td>\n",
       "    </tr>\n",
       "    <tr>\n",
       "      <th>3</th>\n",
       "      <td>10</td>\n",
       "      <td>0</td>\n",
       "      <td>352.774438</td>\n",
       "      <td>-417.665739</td>\n",
       "      <td>2.072596</td>\n",
       "      <td>1.0</td>\n",
       "    </tr>\n",
       "    <tr>\n",
       "      <th>4</th>\n",
       "      <td>10</td>\n",
       "      <td>0</td>\n",
       "      <td>368.888330</td>\n",
       "      <td>-433.197138</td>\n",
       "      <td>21.044770</td>\n",
       "      <td>1.0</td>\n",
       "    </tr>\n",
       "    <tr>\n",
       "      <th>...</th>\n",
       "      <td>...</td>\n",
       "      <td>...</td>\n",
       "      <td>...</td>\n",
       "      <td>...</td>\n",
       "      <td>...</td>\n",
       "      <td>...</td>\n",
       "    </tr>\n",
       "    <tr>\n",
       "      <th>1195</th>\n",
       "      <td>1000</td>\n",
       "      <td>2</td>\n",
       "      <td>138.105350</td>\n",
       "      <td>119.311374</td>\n",
       "      <td>293.844933</td>\n",
       "      <td>1.0</td>\n",
       "    </tr>\n",
       "    <tr>\n",
       "      <th>1196</th>\n",
       "      <td>1000</td>\n",
       "      <td>2</td>\n",
       "      <td>152.016766</td>\n",
       "      <td>-75.367084</td>\n",
       "      <td>486.656255</td>\n",
       "      <td>1.0</td>\n",
       "    </tr>\n",
       "    <tr>\n",
       "      <th>1197</th>\n",
       "      <td>1000</td>\n",
       "      <td>2</td>\n",
       "      <td>109.678719</td>\n",
       "      <td>12.708358</td>\n",
       "      <td>392.897739</td>\n",
       "      <td>1.0</td>\n",
       "    </tr>\n",
       "    <tr>\n",
       "      <th>1198</th>\n",
       "      <td>1000</td>\n",
       "      <td>2</td>\n",
       "      <td>132.710108</td>\n",
       "      <td>-20.291659</td>\n",
       "      <td>428.990871</td>\n",
       "      <td>1.0</td>\n",
       "    </tr>\n",
       "    <tr>\n",
       "      <th>1199</th>\n",
       "      <td>1000</td>\n",
       "      <td>2</td>\n",
       "      <td>-297.585473</td>\n",
       "      <td>-339.024576</td>\n",
       "      <td>822.706768</td>\n",
       "      <td>1.0</td>\n",
       "    </tr>\n",
       "  </tbody>\n",
       "</table>\n",
       "<p>1200 rows × 6 columns</p>\n",
       "</div>"
      ],
      "text/plain": [
       "      ns_err  tx        east       north         mse  success\n",
       "0         10   0  356.567111 -420.438888    3.385434      1.0\n",
       "1         10   0  336.792758 -391.882574   31.358573      1.0\n",
       "2         10   0  353.693886 -420.496342    3.184823      1.0\n",
       "3         10   0  352.774438 -417.665739    2.072596      1.0\n",
       "4         10   0  368.888330 -433.197138   21.044770      1.0\n",
       "...      ...  ..         ...         ...         ...      ...\n",
       "1195    1000   2  138.105350  119.311374  293.844933      1.0\n",
       "1196    1000   2  152.016766  -75.367084  486.656255      1.0\n",
       "1197    1000   2  109.678719   12.708358  392.897739      1.0\n",
       "1198    1000   2  132.710108  -20.291659  428.990871      1.0\n",
       "1199    1000   2 -297.585473 -339.024576  822.706768      1.0\n",
       "\n",
       "[1200 rows x 6 columns]"
      ]
     },
     "execution_count": 56,
     "metadata": {},
     "output_type": "execute_result"
    }
   ],
   "source": [
    "results_pd.astype({\"ns_err\":int, \"tx\": int})"
   ]
  },
  {
   "cell_type": "code",
   "execution_count": null,
   "metadata": {},
   "outputs": [],
   "source": [
    "results_pd.to_pickle(f'../data/results/sim_results_{dimensions}d_{method}.pkl')"
   ]
  },
  {
   "cell_type": "markdown",
   "metadata": {},
   "source": [
    "### All pairs"
   ]
  },
  {
   "cell_type": "code",
   "execution_count": 37,
   "metadata": {},
   "outputs": [],
   "source": [
    "dimensions = 2\n",
    "method = 'nonlinear'\n",
    "results = np.empty((0,4 + dimensions))\n",
    "X0 = np.zeros(shape=(dimensions,))\n",
    "\n",
    "error_dist = [250]\n",
    "for error_ns in error_dist:\n",
    "    data = pd.read_pickle(f'../data/sims/sim_pairs_{error_ns}ns.pkl')\n",
    "\n",
    "    # Get the combinations from the columns\n",
    "    combinations = np.empty((0,2), dtype='int')\n",
    "    for tup in data.loc[0]:\n",
    "        combinations = np.vstack((combinations,np.asarray(tup)))\n",
    "\n",
    "    sensors_mean = np.mean(receivers_enu, axis=0)[0:dimensions]\n",
    "\n",
    "    sensors = (receivers_enu[:,0:dimensions] - sensors_mean)\n",
    "\n",
    "    # We start the interesting stuff\n",
    "    for transmitter in range(3):\n",
    "        tx_position = transmitters_enu[transmitter][0:dimensions]\n",
    "        tx_data = data.loc[transmitter]\n",
    "\n",
    "        for row, tdoa_series in tx_data.iterrows():\n",
    "            tdoas = -tdoa_series.to_numpy()\n",
    "\n",
    "            if method == \"nonlinear\": \n",
    "                optimfun = lambda X: nlls.nlls_enu(X, sensors, tdoas, combinations)\n",
    "\n",
    "                # For dimension 3, need to constrain up direction\n",
    "                constraints = []\n",
    "                if dimensions == 3:\n",
    "                    A = np.eye(3)\n",
    "                    lb = np.array([-100000, -100000, 0.0])\n",
    "                    ub = np.array([100000, 100000, np.inf])\n",
    "                    \n",
    "                    constraints.append(optimize.LinearConstraint(A[0], lb=lb[0], ub=ub[0]))     \n",
    "                    constraints.append(optimize.LinearConstraint(A[1], lb=lb[1], ub=ub[1]))\n",
    "                    constraints.append(optimize.LinearConstraint(A[2], lb=lb[2], ub=ub[2]))\n",
    "\n",
    "                if dimensions == 2:\n",
    "                    summary = optimize.minimize(optimfun, X0, method=\"Nelder-Mead\", constraints=constraints)\n",
    "                elif dimensions == 3:\n",
    "                    summary = optimize.minimize(optimfun, X0, method=\"SLSQP\", constraints=constraints)\n",
    "                res = np.array(summary.x, copy=False).reshape(-1, dimensions)\n",
    "                success = summary.success\n",
    "\n",
    "            elif method == \"linear\":\n",
    "                if combinations.shape[0] == 2:\n",
    "                    res = exact.fang(sensors, tdoas)\n",
    "                else:\n",
    "                    res = lls.lls(sensors, tdoas)\n",
    "                \n",
    "                if res is None:\n",
    "                    success = False\n",
    "                else:\n",
    "                    success = True\n",
    "            else:\n",
    "                raise RuntimeError(f\"Supported methods are linear|nonlinear. You selected {method}\")\n",
    "\n",
    "            res = (res + sensors_mean).squeeze()\n",
    "            err = np.sqrt(np.sum(np.square(res - tx_position)))\n",
    "\n",
    "            if dimensions == 2:\n",
    "                results = np.vstack((results,np.array([error_ns, transmitter, res[0], res[1], err, success])))\n",
    "            elif dimensions == 3:\n",
    "                results = np.vstack((results,np.array([error_ns, transmitter, res[0], res[1], res[2], err, success])))\n",
    "\n",
    "if dimensions == 2:\n",
    "    results_pd = pd.DataFrame(results, columns=['ns_err', 'tx', 'east', 'north', 'mse', 'success'])\n",
    "elif dimensions == 3:   \n",
    "    results_pd = pd.DataFrame(results, columns=['ns_err', 'tx', 'east', 'north', 'up', 'mse', 'success'])"
   ]
  },
  {
   "cell_type": "code",
   "execution_count": 38,
   "metadata": {},
   "outputs": [
    {
     "data": {
      "text/html": [
       "<div>\n",
       "<style scoped>\n",
       "    .dataframe tbody tr th:only-of-type {\n",
       "        vertical-align: middle;\n",
       "    }\n",
       "\n",
       "    .dataframe tbody tr th {\n",
       "        vertical-align: top;\n",
       "    }\n",
       "\n",
       "    .dataframe thead th {\n",
       "        text-align: right;\n",
       "    }\n",
       "</style>\n",
       "<table border=\"1\" class=\"dataframe\">\n",
       "  <thead>\n",
       "    <tr style=\"text-align: right;\">\n",
       "      <th></th>\n",
       "      <th>ns_err</th>\n",
       "      <th>tx</th>\n",
       "      <th>east</th>\n",
       "      <th>north</th>\n",
       "      <th>mse</th>\n",
       "      <th>success</th>\n",
       "    </tr>\n",
       "  </thead>\n",
       "  <tbody>\n",
       "    <tr>\n",
       "      <th>0</th>\n",
       "      <td>250</td>\n",
       "      <td>0</td>\n",
       "      <td>189.978249</td>\n",
       "      <td>-425.924298</td>\n",
       "      <td>165.077834</td>\n",
       "      <td>1.0</td>\n",
       "    </tr>\n",
       "    <tr>\n",
       "      <th>1</th>\n",
       "      <td>250</td>\n",
       "      <td>0</td>\n",
       "      <td>354.329572</td>\n",
       "      <td>-443.459751</td>\n",
       "      <td>25.939039</td>\n",
       "      <td>1.0</td>\n",
       "    </tr>\n",
       "    <tr>\n",
       "      <th>2</th>\n",
       "      <td>250</td>\n",
       "      <td>0</td>\n",
       "      <td>374.383575</td>\n",
       "      <td>-479.688810</td>\n",
       "      <td>65.162134</td>\n",
       "      <td>1.0</td>\n",
       "    </tr>\n",
       "    <tr>\n",
       "      <th>3</th>\n",
       "      <td>250</td>\n",
       "      <td>0</td>\n",
       "      <td>118.701004</td>\n",
       "      <td>-422.446880</td>\n",
       "      <td>236.192570</td>\n",
       "      <td>1.0</td>\n",
       "    </tr>\n",
       "    <tr>\n",
       "      <th>4</th>\n",
       "      <td>250</td>\n",
       "      <td>0</td>\n",
       "      <td>349.636761</td>\n",
       "      <td>-358.540038</td>\n",
       "      <td>59.214993</td>\n",
       "      <td>1.0</td>\n",
       "    </tr>\n",
       "    <tr>\n",
       "      <th>...</th>\n",
       "      <td>...</td>\n",
       "      <td>...</td>\n",
       "      <td>...</td>\n",
       "      <td>...</td>\n",
       "      <td>...</td>\n",
       "      <td>...</td>\n",
       "    </tr>\n",
       "    <tr>\n",
       "      <th>295</th>\n",
       "      <td>250</td>\n",
       "      <td>2</td>\n",
       "      <td>45.687506</td>\n",
       "      <td>460.496298</td>\n",
       "      <td>59.686445</td>\n",
       "      <td>1.0</td>\n",
       "    </tr>\n",
       "    <tr>\n",
       "      <th>296</th>\n",
       "      <td>250</td>\n",
       "      <td>2</td>\n",
       "      <td>108.679377</td>\n",
       "      <td>474.670520</td>\n",
       "      <td>87.690420</td>\n",
       "      <td>1.0</td>\n",
       "    </tr>\n",
       "    <tr>\n",
       "      <th>297</th>\n",
       "      <td>250</td>\n",
       "      <td>2</td>\n",
       "      <td>-7.329168</td>\n",
       "      <td>386.033432</td>\n",
       "      <td>68.406119</td>\n",
       "      <td>1.0</td>\n",
       "    </tr>\n",
       "    <tr>\n",
       "      <th>298</th>\n",
       "      <td>250</td>\n",
       "      <td>2</td>\n",
       "      <td>71.868742</td>\n",
       "      <td>331.385945</td>\n",
       "      <td>72.090527</td>\n",
       "      <td>1.0</td>\n",
       "    </tr>\n",
       "    <tr>\n",
       "      <th>299</th>\n",
       "      <td>250</td>\n",
       "      <td>2</td>\n",
       "      <td>-22.713276</td>\n",
       "      <td>485.368643</td>\n",
       "      <td>116.569564</td>\n",
       "      <td>1.0</td>\n",
       "    </tr>\n",
       "  </tbody>\n",
       "</table>\n",
       "<p>300 rows × 6 columns</p>\n",
       "</div>"
      ],
      "text/plain": [
       "     ns_err  tx        east       north         mse  success\n",
       "0       250   0  189.978249 -425.924298  165.077834      1.0\n",
       "1       250   0  354.329572 -443.459751   25.939039      1.0\n",
       "2       250   0  374.383575 -479.688810   65.162134      1.0\n",
       "3       250   0  118.701004 -422.446880  236.192570      1.0\n",
       "4       250   0  349.636761 -358.540038   59.214993      1.0\n",
       "..      ...  ..         ...         ...         ...      ...\n",
       "295     250   2   45.687506  460.496298   59.686445      1.0\n",
       "296     250   2  108.679377  474.670520   87.690420      1.0\n",
       "297     250   2   -7.329168  386.033432   68.406119      1.0\n",
       "298     250   2   71.868742  331.385945   72.090527      1.0\n",
       "299     250   2  -22.713276  485.368643  116.569564      1.0\n",
       "\n",
       "[300 rows x 6 columns]"
      ]
     },
     "execution_count": 38,
     "metadata": {},
     "output_type": "execute_result"
    }
   ],
   "source": [
    "results_pd.astype({\"ns_err\":int, \"tx\": int})"
   ]
  },
  {
   "cell_type": "code",
   "execution_count": 39,
   "metadata": {},
   "outputs": [],
   "source": [
    "results_pd.to_pickle(f'../data/results/sim_results_{dimensions}d_{method}_pairs.pkl')"
   ]
  },
  {
   "cell_type": "markdown",
   "metadata": {},
   "source": [
    "### All receiver pairs"
   ]
  },
  {
   "cell_type": "code",
   "execution_count": 40,
   "metadata": {},
   "outputs": [],
   "source": [
    "import os"
   ]
  },
  {
   "cell_type": "code",
   "execution_count": 53,
   "metadata": {},
   "outputs": [],
   "source": [
    "dimensions = 2\n",
    "method = 'nonlinear'\n",
    "X0 = np.zeros(shape=(dimensions,))\n",
    "\n",
    "num_sensors = 4\n",
    "path = f\"/home/ygglc/desktop/electrosense/hackathons/2022/hackathon_alicante/hacktdoa/data/sims/combinations_{num_sensors}\"\n",
    "for file in os.scandir(path):\n",
    "    data = pd.read_pickle(os.path.join(path,file))\n",
    "\n",
    "    results = np.empty((0,4 + dimensions))\n",
    "\n",
    "    # Get the combinations from the columns\n",
    "    combinations = np.empty((0,2), dtype='int')\n",
    "    for tup in data.loc[0]:\n",
    "        combinations = np.vstack((combinations,np.asarray(tup)))\n",
    "\n",
    "    sensors_mean = np.mean(receivers_enu, axis=0)[0:dimensions]\n",
    "\n",
    "    sensors = (receivers_enu[:,0:dimensions] - sensors_mean)\n",
    "\n",
    "    # We start the interesting stuff\n",
    "    for transmitter in range(3):\n",
    "        tx_position = transmitters_enu[transmitter][0:dimensions]\n",
    "        tx_data = data.loc[transmitter]\n",
    "\n",
    "        for row, tdoa_series in tx_data.iterrows():\n",
    "            tdoas = -tdoa_series.to_numpy()\n",
    "\n",
    "            if method == \"nonlinear\": \n",
    "                optimfun = lambda X: nlls.nlls_enu(X, sensors, tdoas, combinations)\n",
    "\n",
    "                # For dimension 3, need to constrain up direction\n",
    "                constraints = []\n",
    "                if dimensions == 3:\n",
    "                    A = np.eye(3)\n",
    "                    lb = np.array([-100000, -100000, 0.0])\n",
    "                    ub = np.array([100000, 100000, np.inf])\n",
    "                    \n",
    "                    constraints.append(optimize.LinearConstraint(A[0], lb=lb[0], ub=ub[0]))     \n",
    "                    constraints.append(optimize.LinearConstraint(A[1], lb=lb[1], ub=ub[1]))\n",
    "                    constraints.append(optimize.LinearConstraint(A[2], lb=lb[2], ub=ub[2]))\n",
    "\n",
    "                if dimensions == 2:\n",
    "                    summary = optimize.minimize(optimfun, X0, method=\"Nelder-Mead\", constraints=constraints)\n",
    "                elif dimensions == 3:\n",
    "                    summary = optimize.minimize(optimfun, X0, method=\"SLSQP\", constraints=constraints)\n",
    "                res = np.array(summary.x, copy=False).reshape(-1, dimensions)\n",
    "                success = summary.success\n",
    "\n",
    "            elif method == \"linear\":\n",
    "                if combinations.shape[0] == 2:\n",
    "                    res = exact.fang(sensors, tdoas)\n",
    "                else:\n",
    "                    res = lls.lls(sensors, tdoas)\n",
    "                \n",
    "                if res is None:\n",
    "                    success = False\n",
    "                else:\n",
    "                    success = True\n",
    "            else:\n",
    "                raise RuntimeError(f\"Supported methods are linear|nonlinear. You selected {method}\")\n",
    "\n",
    "            res = (res + sensors_mean).squeeze()\n",
    "            err = np.sqrt(np.sum(np.square(res - tx_position)))\n",
    "\n",
    "            if dimensions == 2:\n",
    "                results = np.vstack((results,np.array([error_ns, transmitter, res[0], res[1], err, success])))\n",
    "            elif dimensions == 3:\n",
    "                results = np.vstack((results,np.array([error_ns, transmitter, res[0], res[1], res[2], err, success])))\n",
    "\n",
    "    if dimensions == 2:\n",
    "        results_pd = pd.DataFrame(results, columns=['ns_err', 'tx', 'east', 'north', 'mse', 'success'])\n",
    "    elif dimensions == 3:   \n",
    "        results_pd = pd.DataFrame(results, columns=['ns_err', 'tx', 'east', 'north', 'up', 'mse', 'success'])\n",
    "\n",
    "    results_pd.astype({\"ns_err\":int, \"tx\": int, \"success\": bool})\n",
    "    result_file = file.name.split(\".\")[0]\n",
    "    results_pd.to_pickle(f'../data/results/combinations_{num_sensors}/{result_file}_result.pkl')"
   ]
  },
  {
   "cell_type": "code",
   "execution_count": 54,
   "metadata": {},
   "outputs": [
    {
     "data": {
      "text/html": [
       "<div>\n",
       "<style scoped>\n",
       "    .dataframe tbody tr th:only-of-type {\n",
       "        vertical-align: middle;\n",
       "    }\n",
       "\n",
       "    .dataframe tbody tr th {\n",
       "        vertical-align: top;\n",
       "    }\n",
       "\n",
       "    .dataframe thead th {\n",
       "        text-align: right;\n",
       "    }\n",
       "</style>\n",
       "<table border=\"1\" class=\"dataframe\">\n",
       "  <thead>\n",
       "    <tr style=\"text-align: right;\">\n",
       "      <th></th>\n",
       "      <th>ns_err</th>\n",
       "      <th>tx</th>\n",
       "      <th>east</th>\n",
       "      <th>north</th>\n",
       "      <th>mse</th>\n",
       "      <th>success</th>\n",
       "    </tr>\n",
       "  </thead>\n",
       "  <tbody>\n",
       "    <tr>\n",
       "      <th>0</th>\n",
       "      <td>250.0</td>\n",
       "      <td>0.0</td>\n",
       "      <td>514.797189</td>\n",
       "      <td>-460.918566</td>\n",
       "      <td>165.736235</td>\n",
       "      <td>1.0</td>\n",
       "    </tr>\n",
       "    <tr>\n",
       "      <th>1</th>\n",
       "      <td>250.0</td>\n",
       "      <td>0.0</td>\n",
       "      <td>775.297876</td>\n",
       "      <td>-985.689013</td>\n",
       "      <td>706.818469</td>\n",
       "      <td>1.0</td>\n",
       "    </tr>\n",
       "    <tr>\n",
       "      <th>2</th>\n",
       "      <td>250.0</td>\n",
       "      <td>0.0</td>\n",
       "      <td>686.945529</td>\n",
       "      <td>-537.023012</td>\n",
       "      <td>352.947789</td>\n",
       "      <td>1.0</td>\n",
       "    </tr>\n",
       "    <tr>\n",
       "      <th>3</th>\n",
       "      <td>250.0</td>\n",
       "      <td>0.0</td>\n",
       "      <td>342.796333</td>\n",
       "      <td>-385.596402</td>\n",
       "      <td>34.126098</td>\n",
       "      <td>1.0</td>\n",
       "    </tr>\n",
       "    <tr>\n",
       "      <th>4</th>\n",
       "      <td>250.0</td>\n",
       "      <td>0.0</td>\n",
       "      <td>318.598741</td>\n",
       "      <td>-421.177527</td>\n",
       "      <td>36.427064</td>\n",
       "      <td>1.0</td>\n",
       "    </tr>\n",
       "    <tr>\n",
       "      <th>...</th>\n",
       "      <td>...</td>\n",
       "      <td>...</td>\n",
       "      <td>...</td>\n",
       "      <td>...</td>\n",
       "      <td>...</td>\n",
       "      <td>...</td>\n",
       "    </tr>\n",
       "    <tr>\n",
       "      <th>295</th>\n",
       "      <td>250.0</td>\n",
       "      <td>2.0</td>\n",
       "      <td>183.201272</td>\n",
       "      <td>344.748575</td>\n",
       "      <td>136.807360</td>\n",
       "      <td>1.0</td>\n",
       "    </tr>\n",
       "    <tr>\n",
       "      <th>296</th>\n",
       "      <td>250.0</td>\n",
       "      <td>2.0</td>\n",
       "      <td>73.245310</td>\n",
       "      <td>332.218020</td>\n",
       "      <td>71.531084</td>\n",
       "      <td>1.0</td>\n",
       "    </tr>\n",
       "    <tr>\n",
       "      <th>297</th>\n",
       "      <td>250.0</td>\n",
       "      <td>2.0</td>\n",
       "      <td>-68.864102</td>\n",
       "      <td>505.033656</td>\n",
       "      <td>164.081374</td>\n",
       "      <td>1.0</td>\n",
       "    </tr>\n",
       "    <tr>\n",
       "      <th>298</th>\n",
       "      <td>250.0</td>\n",
       "      <td>2.0</td>\n",
       "      <td>2.028028</td>\n",
       "      <td>412.539737</td>\n",
       "      <td>57.982102</td>\n",
       "      <td>1.0</td>\n",
       "    </tr>\n",
       "    <tr>\n",
       "      <th>299</th>\n",
       "      <td>250.0</td>\n",
       "      <td>2.0</td>\n",
       "      <td>117.910396</td>\n",
       "      <td>539.705351</td>\n",
       "      <td>149.425222</td>\n",
       "      <td>1.0</td>\n",
       "    </tr>\n",
       "  </tbody>\n",
       "</table>\n",
       "<p>300 rows × 6 columns</p>\n",
       "</div>"
      ],
      "text/plain": [
       "     ns_err   tx        east       north         mse  success\n",
       "0     250.0  0.0  514.797189 -460.918566  165.736235      1.0\n",
       "1     250.0  0.0  775.297876 -985.689013  706.818469      1.0\n",
       "2     250.0  0.0  686.945529 -537.023012  352.947789      1.0\n",
       "3     250.0  0.0  342.796333 -385.596402   34.126098      1.0\n",
       "4     250.0  0.0  318.598741 -421.177527   36.427064      1.0\n",
       "..      ...  ...         ...         ...         ...      ...\n",
       "295   250.0  2.0  183.201272  344.748575  136.807360      1.0\n",
       "296   250.0  2.0   73.245310  332.218020   71.531084      1.0\n",
       "297   250.0  2.0  -68.864102  505.033656  164.081374      1.0\n",
       "298   250.0  2.0    2.028028  412.539737   57.982102      1.0\n",
       "299   250.0  2.0  117.910396  539.705351  149.425222      1.0\n",
       "\n",
       "[300 rows x 6 columns]"
      ]
     },
     "execution_count": 54,
     "metadata": {},
     "output_type": "execute_result"
    }
   ],
   "source": [
    "results_pd"
   ]
  }
 ],
 "metadata": {
  "kernelspec": {
   "display_name": "Python 3.10.7 ('hacktdoa')",
   "language": "python",
   "name": "python3"
  },
  "language_info": {
   "codemirror_mode": {
    "name": "ipython",
    "version": 3
   },
   "file_extension": ".py",
   "mimetype": "text/x-python",
   "name": "python",
   "nbconvert_exporter": "python",
   "pygments_lexer": "ipython3",
   "version": "3.10.7"
  },
  "vscode": {
   "interpreter": {
    "hash": "9f3d3a7dc257d3606aacb576584d6f288cbb76a346a8fdae608beb59d0cdf71b"
   }
  }
 },
 "nbformat": 4,
 "nbformat_minor": 2
}
